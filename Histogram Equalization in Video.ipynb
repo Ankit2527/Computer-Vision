{
 "cells": [
  {
   "cell_type": "code",
   "execution_count": null,
   "metadata": {},
   "outputs": [],
   "source": [
    "import cv2\n",
    "import numpy as np\n",
    "\n",
    "cap = cv2.VideoCapture(0)\n",
    "\n",
    "while(True):\n",
    "    \n",
    "    #Read frames from the camera\n",
    "    _,frame = cap.read()\n",
    "    \n",
    "    #Split the color channels\n",
    "    b,g,r = cv2.split(frame)\n",
    "    \n",
    "    #Equalise each color channel\n",
    "    b_equ = cv2.equalizeHist(b)\n",
    "    g_equ = cv2.equalizeHist(g)\n",
    "    r_equ = cv2.equalizeHist(r)\n",
    "    \n",
    "    #Merge the color channels\n",
    "    equ = cv2.merge((b_equ,g_equ,r_equ))\n",
    "\n",
    "    #Stack the images side-by-side\n",
    "    res = np.hstack((frame,equ))\n",
    "    \n",
    "    #Display the image\n",
    "    cv2.imshow('Result',res)\n",
    "    \n",
    "    if cv2.waitKey(1) & 0xFF == ord('q'):\n",
    "        break\n",
    "    \n",
    "cap.release()\n",
    "cv2.destroyAllWindows()"
   ]
  },
  {
   "cell_type": "code",
   "execution_count": null,
   "metadata": {},
   "outputs": [],
   "source": []
  }
 ],
 "metadata": {
  "kernelspec": {
   "display_name": "Python 3",
   "language": "python",
   "name": "python3"
  },
  "language_info": {
   "codemirror_mode": {
    "name": "ipython",
    "version": 3
   },
   "file_extension": ".py",
   "mimetype": "text/x-python",
   "name": "python",
   "nbconvert_exporter": "python",
   "pygments_lexer": "ipython3",
   "version": "3.7.7"
  }
 },
 "nbformat": 4,
 "nbformat_minor": 4
}
